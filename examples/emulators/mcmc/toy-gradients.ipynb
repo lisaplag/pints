{
 "cells": [
  {
   "cell_type": "code",
   "execution_count": 27,
   "metadata": {},
   "outputs": [],
   "source": [
    "import pints\n",
    "import numpy as np\n",
    "from sklearn.preprocessing import StandardScaler, MinMaxScaler\n",
    "from sklearn.model_selection import train_test_split"
   ]
  },
  {
   "cell_type": "code",
   "execution_count": 29,
   "metadata": {},
   "outputs": [],
   "source": [
    "import pints.toy as toy\n",
    "\n",
    "class RescaledModel(pints.ForwardModel):\n",
    "    def __init__(self):\n",
    "        self.base_model = toy.LogisticModel()\n",
    "    \n",
    "    def simulate(self, parameters, times):\n",
    "        # Run a simulation with the given parameters for the\n",
    "        # given times and return the simulated values\n",
    "        r, k = parameters\n",
    "        r = r / 50\n",
    "        k = k * 500\n",
    "        return self.base_model.simulate([r, k], times)\n",
    "    \n",
    "    def simulateS1(self, parameters, times):\n",
    "        # Run a simulation with the given parameters for the\n",
    "        # given times and return the simulated values\n",
    "        r, k = parameters\n",
    "        r = r / 50\n",
    "        k = k * 500\n",
    "        return self.base_model.simulateS1([r, k], times)\n",
    "    \n",
    "    def n_parameters(self):\n",
    "        # Return the dimension of the parameter vector\n",
    "        return 2\n",
    "    \n",
    "model = toy.LogisticModel()\n",
    "true_parameters = [0.015, 500]\n",
    "start_parameters = [0.75, 1.0] # rescaled true parameters\n",
    "times = np.linspace(0, 1000, 400)"
   ]
  },
  {
   "cell_type": "code",
   "execution_count": 30,
   "metadata": {},
   "outputs": [],
   "source": [
    "# Simulate time series\n",
    "org_values = model.simulate(true_parameters, times)\n",
    "range_values = max(org_values) - min(org_values)\n",
    "noise = 0.05 * range_values\n",
    "values = org_values + np.random.normal(0, noise, org_values.shape)\n",
    "\n",
    "model = RescaledModel()\n",
    "problem = pints.SingleOutputProblem(model, times, values)\n",
    "log_likelihood = pints.GaussianKnownSigmaLogLikelihood(problem, noise)\n",
    "\n",
    "# Create (rescaled) bounds for our parameters and get prior\n",
    "bounds = pints.RectangularBoundaries([0.5, 0.8], [1.0, 1.2])\n",
    "log_prior = pints.UniformLogPrior(bounds)\n",
    "# Create a posterior log-likelihood (log(likelihood * prior))\n",
    "log_posterior = pints.LogPosterior(log_likelihood, log_prior)\n",
    "\n",
    "# Train emulator\n",
    "input_parameters = log_prior.sample(2000)\n",
    "likelihoods = np.apply_along_axis(log_likelihood, 1, input_parameters)\n",
    "\n",
    "#likelihoods = np.array([0.7*l for l in likelihoods])\n",
    "X_train, X_valid, y_train, y_valid = train_test_split(input_parameters, likelihoods, test_size=0.3, random_state=0)\n",
    "emu = pints.MultiLayerNN(problem, X_train, y_train, input_scaler=MinMaxScaler(), output_scaler=StandardScaler())\n",
    "emu.set_parameters(layers=6, neurons=64, hidden_activation='relu', activation='linear', learning_rate=0.0001)\n",
    "hist = emu.fit(epochs=500, batch_size=32, X_val=X_valid, y_val=y_valid, verbose=0)\n",
    "log_posterior_emu = pints.LogPosterior(emu, log_prior)"
   ]
  },
  {
   "cell_type": "code",
   "execution_count": 158,
   "metadata": {},
   "outputs": [
    {
     "data": {
      "text/plain": [
       "array([[[0.5       , 0.8       ],\n",
       "        [0.50505051, 0.8       ],\n",
       "        [0.51010101, 0.8       ],\n",
       "        ...,\n",
       "        [0.98989899, 0.8       ],\n",
       "        [0.99494949, 0.8       ],\n",
       "        [1.        , 0.8       ]],\n",
       "\n",
       "       [[0.5       , 0.8040404 ],\n",
       "        [0.50505051, 0.8040404 ],\n",
       "        [0.51010101, 0.8040404 ],\n",
       "        ...,\n",
       "        [0.98989899, 0.8040404 ],\n",
       "        [0.99494949, 0.8040404 ],\n",
       "        [1.        , 0.8040404 ]],\n",
       "\n",
       "       [[0.5       , 0.80808081],\n",
       "        [0.50505051, 0.80808081],\n",
       "        [0.51010101, 0.80808081],\n",
       "        ...,\n",
       "        [0.98989899, 0.80808081],\n",
       "        [0.99494949, 0.80808081],\n",
       "        [1.        , 0.80808081]],\n",
       "\n",
       "       ...,\n",
       "\n",
       "       [[0.5       , 1.19191919],\n",
       "        [0.50505051, 1.19191919],\n",
       "        [0.51010101, 1.19191919],\n",
       "        ...,\n",
       "        [0.98989899, 1.19191919],\n",
       "        [0.99494949, 1.19191919],\n",
       "        [1.        , 1.19191919]],\n",
       "\n",
       "       [[0.5       , 1.1959596 ],\n",
       "        [0.50505051, 1.1959596 ],\n",
       "        [0.51010101, 1.1959596 ],\n",
       "        ...,\n",
       "        [0.98989899, 1.1959596 ],\n",
       "        [0.99494949, 1.1959596 ],\n",
       "        [1.        , 1.1959596 ]],\n",
       "\n",
       "       [[0.5       , 1.2       ],\n",
       "        [0.50505051, 1.2       ],\n",
       "        [0.51010101, 1.2       ],\n",
       "        ...,\n",
       "        [0.98989899, 1.2       ],\n",
       "        [0.99494949, 1.2       ],\n",
       "        [1.        , 1.2       ]]])"
      ]
     },
     "execution_count": 158,
     "metadata": {},
     "output_type": "execute_result"
    }
   ],
   "source": [
    "p1_range = np.linspace(0.5, 1.0, 100)\n",
    "p2_range = np.linspace(0.8, 1.2, 100)\n",
    "p1_grid, p2_grid = np.meshgrid(p1_range, p2_range)\n",
    "grids = [p1_grid, p2_grid]\n",
    "grid = np.dstack(tuple(grids))\n",
    "rows, cols, n_params = grid.shape\n",
    "flattened_grid = grid.reshape((rows * cols, n_params))\n",
    "grid"
   ]
  },
  {
   "cell_type": "code",
   "execution_count": 124,
   "metadata": {},
   "outputs": [
    {
     "data": {
      "text/plain": [
       "0.004040404040404066"
      ]
     },
     "execution_count": 124,
     "metadata": {},
     "output_type": "execute_result"
    }
   ],
   "source": [
    "dx = p1_grid[0][1]-p1_grid[0][0]\n",
    "dy = p2_grid[1][0]-p2_grid[0][0]\n",
    "dy"
   ]
  },
  {
   "cell_type": "code",
   "execution_count": 54,
   "metadata": {},
   "outputs": [],
   "source": [
    "test_splits = 50 # number of splits along each axis\n",
    "r_grid, k_grid, test_data = pints.generate_grid(bounds.lower(), bounds.upper(), test_splits)"
   ]
  },
  {
   "cell_type": "code",
   "execution_count": 142,
   "metadata": {},
   "outputs": [],
   "source": [
    "emu_prediction = np.apply_along_axis(emu, 2, grid)\n",
    "model_prediction = np.apply_along_axis(log_likelihood, 2, grid)"
   ]
  },
  {
   "cell_type": "code",
   "execution_count": 153,
   "metadata": {},
   "outputs": [],
   "source": [
    "Gx_emu, Gy_emu = np.gradient(emu_prediction.reshape(100,100), dx, dy)\n",
    "G_model = np.gradient(model_prediction.reshape(100,100), dx, dy)"
   ]
  },
  {
   "cell_type": "code",
   "execution_count": 160,
   "metadata": {},
   "outputs": [
    {
     "data": {
      "text/plain": [
       "array([[-7938.2324, -7869.6855, -7790.861 , ..., -3982.9553, -4007.7324,\n",
       "        -4032.5088],\n",
       "       [-7977.3765, -7908.892 , -7829.258 , ..., -3947.212 , -3971.9893,\n",
       "        -3998.4885],\n",
       "       [-8018.667 , -7951.0337, -7871.4653, ..., -3911.167 , -3936.5955,\n",
       "        -3965.363 ],\n",
       "       ...,\n",
       "       [-6659.4253, -6475.9126, -6287.052 , ..., -6063.48  , -6104.459 ,\n",
       "        -6145.436 ],\n",
       "       [-6659.6416, -6477.2915, -6290.628 , ..., -6101.68  , -6142.7275,\n",
       "        -6183.538 ],\n",
       "       [-6659.856 , -6479.875 , -6296.161 , ..., -6139.4507, -6180.289 ,\n",
       "        -6220.322 ]], dtype=float32)"
      ]
     },
     "execution_count": 160,
     "metadata": {},
     "output_type": "execute_result"
    }
   ],
   "source": [
    "emu_prediction.reshape(100,100)"
   ]
  },
  {
   "cell_type": "code",
   "execution_count": 172,
   "metadata": {},
   "outputs": [
    {
     "data": {
      "text/plain": [
       "array([[13572.268]], dtype=float32)"
      ]
     },
     "execution_count": 172,
     "metadata": {},
     "output_type": "execute_result"
    }
   ],
   "source": [
    "(emu([0.50505051, 0.8       ]) - emu([0.5       , 0.8       ])) / (0.50505051-0.5)"
   ]
  },
  {
   "cell_type": "code",
   "execution_count": 168,
   "metadata": {},
   "outputs": [
    {
     "data": {
      "text/plain": [
       "13572.281249999913"
      ]
     },
     "execution_count": 168,
     "metadata": {},
     "output_type": "execute_result"
    }
   ],
   "source": [
    "(emu_prediction.reshape(100,100)[0][1]-emu_prediction.reshape(100,100)[0][0])/dx"
   ]
  },
  {
   "cell_type": "code",
   "execution_count": 174,
   "metadata": {},
   "outputs": [
    {
     "data": {
      "text/plain": [
       "array([[-7750.5205  , -7762.8955  , -7602.6006  , ...,  7077.195   ,\n",
       "         7077.1465  ,  6736.012   ],\n",
       "       [-7963.0225  , -8053.4663  , -7979.8447  , ...,  7107.045   ,\n",
       "         7042.5596  ,  6647.4297  ],\n",
       "       [-8548.177   , -8572.25    , -8521.154   , ...,  7182.8174  ,\n",
       "         6976.8896  ,  6602.9087  ],\n",
       "       ...,\n",
       "       [  -47.904785,  -272.87842 ,  -694.3535  , ..., -7715.2324  ,\n",
       "        -7647.8467  , -7624.982   ],\n",
       "       [  -42.635742,  -392.27783 ,  -901.8281  , ..., -7521.0996  ,\n",
       "        -7507.1777  , -7413.6885  ],\n",
       "       [  -42.442383,  -511.53223 , -1095.5742  , ..., -7478.5605  ,\n",
       "        -7437.1816  , -7283.171   ]], dtype=float32)"
      ]
     },
     "execution_count": 174,
     "metadata": {},
     "output_type": "execute_result"
    }
   ],
   "source": [
    "Gx_emu"
   ]
  },
  {
   "cell_type": "code",
   "execution_count": 177,
   "metadata": {},
   "outputs": [
    {
     "data": {
      "text/plain": [
       "array([[-9688.16]], dtype=float32)"
      ]
     },
     "execution_count": 177,
     "metadata": {},
     "output_type": "execute_result"
    }
   ],
   "source": [
    "(emu([0.5       , 0.8040404 ]) - emu([0.5       , 0.8       ])) / (0.8040404-0.8)"
   ]
  },
  {
   "cell_type": "code",
   "execution_count": 156,
   "metadata": {},
   "outputs": [
    {
     "data": {
      "text/plain": [
       "array([[ 16965.352 ,  18237.232 ,  20082.062 , ...,  -6144.8096,\n",
       "         -6132.241 ,  -6132.1504],\n",
       "       [ 16949.883 ,  18329.682 ,  20723.11  , ...,  -6175.113 ,\n",
       "         -6345.4805,  -6558.5684],\n",
       "       [ 16739.24  ,  18216.205 ,  21277.084 , ...,  -6351.674 ,\n",
       "         -6706.7603,  -7119.975 ],\n",
       "       ...,\n",
       "       [ 45419.39  ,  46081.223 ,  46043.7   , ..., -10281.159 ,\n",
       "        -10142.062 , -10141.819 ],\n",
       "       [ 45131.65  ,  45665.44  ,  45435.766 , ..., -10188.951 ,\n",
       "        -10129.916 , -10100.61  ],\n",
       "       [ 44545.285 ,  45007.234 ,  44976.9   , ..., -10112.574 ,\n",
       "        -10007.798 ,  -9908.097 ]], dtype=float32)"
      ]
     },
     "execution_count": 156,
     "metadata": {},
     "output_type": "execute_result"
    }
   ],
   "source": [
    "Gy_emu"
   ]
  },
  {
   "cell_type": "code",
   "execution_count": 89,
   "metadata": {},
   "outputs": [],
   "source": [
    "from numpy import gradient\n",
    "dx = np.cumsum(np.ones(5))\n",
    "dx_uneven = [1., 2., 5., 9., 11.]\n",
    "f_2d = np.arange(25).reshape(5, 5)\n",
    "\n",
    "# distances must be scalars or have size equal to gradient[axis]\n",
    "one = gradient(np.arange(5), 3.)\n",
    "two = gradient(np.arange(5), np.array(3.))\n",
    "three = gradient(np.arange(5), dx)\n",
    "# dy is set equal to dx because scalar\n",
    "four = gradient(f_2d, 1.5)\n",
    "five = gradient(f_2d, np.array(1.5))\n",
    "\n",
    "six = gradient(f_2d, dx_uneven, dx_uneven)\n",
    "# mix between even and uneven spaces and\n",
    "# mix between scalar and vector\n",
    "seven = gradient(f_2d, dx, 2)\n",
    "\n",
    "# 2D but axis specified\n",
    "eight = gradient(f_2d, dx, axis=1)"
   ]
  },
  {
   "cell_type": "code",
   "execution_count": 91,
   "metadata": {},
   "outputs": [
    {
     "data": {
      "text/plain": [
       "array([[ 0,  1,  2,  3,  4],\n",
       "       [ 5,  6,  7,  8,  9],\n",
       "       [10, 11, 12, 13, 14],\n",
       "       [15, 16, 17, 18, 19],\n",
       "       [20, 21, 22, 23, 24]])"
      ]
     },
     "execution_count": 91,
     "metadata": {},
     "output_type": "execute_result"
    }
   ],
   "source": [
    "f_2d"
   ]
  },
  {
   "cell_type": "code",
   "execution_count": 101,
   "metadata": {},
   "outputs": [
    {
     "data": {
      "text/plain": [
       "[array([[3.33333333, 3.33333333, 3.33333333, 3.33333333, 3.33333333],\n",
       "        [3.33333333, 3.33333333, 3.33333333, 3.33333333, 3.33333333],\n",
       "        [3.33333333, 3.33333333, 3.33333333, 3.33333333, 3.33333333],\n",
       "        [3.33333333, 3.33333333, 3.33333333, 3.33333333, 3.33333333],\n",
       "        [3.33333333, 3.33333333, 3.33333333, 3.33333333, 3.33333333]]),\n",
       " array([[0.66666667, 0.66666667, 0.66666667, 0.66666667, 0.66666667],\n",
       "        [0.66666667, 0.66666667, 0.66666667, 0.66666667, 0.66666667],\n",
       "        [0.66666667, 0.66666667, 0.66666667, 0.66666667, 0.66666667],\n",
       "        [0.66666667, 0.66666667, 0.66666667, 0.66666667, 0.66666667],\n",
       "        [0.66666667, 0.66666667, 0.66666667, 0.66666667, 0.66666667]])]"
      ]
     },
     "execution_count": 101,
     "metadata": {},
     "output_type": "execute_result"
    }
   ],
   "source": [
    "four"
   ]
  },
  {
   "cell_type": "code",
   "execution_count": 102,
   "metadata": {},
   "outputs": [
    {
     "data": {
      "text/plain": [
       "[array([[3.33333333, 3.33333333, 3.33333333, 3.33333333, 3.33333333],\n",
       "        [3.33333333, 3.33333333, 3.33333333, 3.33333333, 3.33333333],\n",
       "        [3.33333333, 3.33333333, 3.33333333, 3.33333333, 3.33333333],\n",
       "        [3.33333333, 3.33333333, 3.33333333, 3.33333333, 3.33333333],\n",
       "        [3.33333333, 3.33333333, 3.33333333, 3.33333333, 3.33333333]]),\n",
       " array([[0.66666667, 0.66666667, 0.66666667, 0.66666667, 0.66666667],\n",
       "        [0.66666667, 0.66666667, 0.66666667, 0.66666667, 0.66666667],\n",
       "        [0.66666667, 0.66666667, 0.66666667, 0.66666667, 0.66666667],\n",
       "        [0.66666667, 0.66666667, 0.66666667, 0.66666667, 0.66666667],\n",
       "        [0.66666667, 0.66666667, 0.66666667, 0.66666667, 0.66666667]])]"
      ]
     },
     "execution_count": 102,
     "metadata": {},
     "output_type": "execute_result"
    }
   ],
   "source": [
    "five"
   ]
  },
  {
   "cell_type": "code",
   "execution_count": 103,
   "metadata": {},
   "outputs": [
    {
     "data": {
      "text/plain": [
       "[array([[5.        , 5.        , 5.        , 5.        , 5.        ],\n",
       "        [4.16666667, 4.16666667, 4.16666667, 4.16666667, 4.16666667],\n",
       "        [1.48809524, 1.48809524, 1.48809524, 1.48809524, 1.48809524],\n",
       "        [2.08333333, 2.08333333, 2.08333333, 2.08333333, 2.08333333],\n",
       "        [2.5       , 2.5       , 2.5       , 2.5       , 2.5       ]]),\n",
       " array([[1.        , 0.83333333, 0.29761905, 0.41666667, 0.5       ],\n",
       "        [1.        , 0.83333333, 0.29761905, 0.41666667, 0.5       ],\n",
       "        [1.        , 0.83333333, 0.29761905, 0.41666667, 0.5       ],\n",
       "        [1.        , 0.83333333, 0.29761905, 0.41666667, 0.5       ],\n",
       "        [1.        , 0.83333333, 0.29761905, 0.41666667, 0.5       ]])]"
      ]
     },
     "execution_count": 103,
     "metadata": {},
     "output_type": "execute_result"
    }
   ],
   "source": [
    "six"
   ]
  },
  {
   "cell_type": "code",
   "execution_count": 104,
   "metadata": {},
   "outputs": [
    {
     "data": {
      "text/plain": [
       "[array([[5., 5., 5., 5., 5.],\n",
       "        [5., 5., 5., 5., 5.],\n",
       "        [5., 5., 5., 5., 5.],\n",
       "        [5., 5., 5., 5., 5.],\n",
       "        [5., 5., 5., 5., 5.]]),\n",
       " array([[0.5, 0.5, 0.5, 0.5, 0.5],\n",
       "        [0.5, 0.5, 0.5, 0.5, 0.5],\n",
       "        [0.5, 0.5, 0.5, 0.5, 0.5],\n",
       "        [0.5, 0.5, 0.5, 0.5, 0.5],\n",
       "        [0.5, 0.5, 0.5, 0.5, 0.5]])]"
      ]
     },
     "execution_count": 104,
     "metadata": {},
     "output_type": "execute_result"
    }
   ],
   "source": [
    "seven"
   ]
  },
  {
   "cell_type": "code",
   "execution_count": 105,
   "metadata": {},
   "outputs": [
    {
     "data": {
      "text/plain": [
       "array([[1., 1., 1., 1., 1.],\n",
       "       [1., 1., 1., 1., 1.],\n",
       "       [1., 1., 1., 1., 1.],\n",
       "       [1., 1., 1., 1., 1.],\n",
       "       [1., 1., 1., 1., 1.]])"
      ]
     },
     "execution_count": 105,
     "metadata": {},
     "output_type": "execute_result"
    }
   ],
   "source": [
    "eight"
   ]
  },
  {
   "cell_type": "code",
   "execution_count": null,
   "metadata": {},
   "outputs": [],
   "source": []
  }
 ],
 "metadata": {
  "kernelspec": {
   "display_name": "Python 3",
   "language": "python",
   "name": "python3"
  },
  "language_info": {
   "codemirror_mode": {
    "name": "ipython",
    "version": 3
   },
   "file_extension": ".py",
   "mimetype": "text/x-python",
   "name": "python",
   "nbconvert_exporter": "python",
   "pygments_lexer": "ipython3",
   "version": "3.6.7"
  }
 },
 "nbformat": 4,
 "nbformat_minor": 4
}

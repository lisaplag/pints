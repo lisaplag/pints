{
 "cells": [
  {
   "cell_type": "code",
   "execution_count": 1,
   "metadata": {},
   "outputs": [
    {
     "name": "stderr",
     "output_type": "stream",
     "text": [
      "C:\\Users\\plagl\\Anaconda3\\lib\\site-packages\\tensorflow\\python\\framework\\dtypes.py:523: FutureWarning: Passing (type, 1) or '1type' as a synonym of type is deprecated; in a future version of numpy, it will be understood as (type, (1,)) / '(1,)type'.\n",
      "  _np_qint8 = np.dtype([(\"qint8\", np.int8, 1)])\n",
      "C:\\Users\\plagl\\Anaconda3\\lib\\site-packages\\tensorflow\\python\\framework\\dtypes.py:524: FutureWarning: Passing (type, 1) or '1type' as a synonym of type is deprecated; in a future version of numpy, it will be understood as (type, (1,)) / '(1,)type'.\n",
      "  _np_quint8 = np.dtype([(\"quint8\", np.uint8, 1)])\n",
      "C:\\Users\\plagl\\Anaconda3\\lib\\site-packages\\tensorflow\\python\\framework\\dtypes.py:525: FutureWarning: Passing (type, 1) or '1type' as a synonym of type is deprecated; in a future version of numpy, it will be understood as (type, (1,)) / '(1,)type'.\n",
      "  _np_qint16 = np.dtype([(\"qint16\", np.int16, 1)])\n",
      "C:\\Users\\plagl\\Anaconda3\\lib\\site-packages\\tensorflow\\python\\framework\\dtypes.py:526: FutureWarning: Passing (type, 1) or '1type' as a synonym of type is deprecated; in a future version of numpy, it will be understood as (type, (1,)) / '(1,)type'.\n",
      "  _np_quint16 = np.dtype([(\"quint16\", np.uint16, 1)])\n",
      "C:\\Users\\plagl\\Anaconda3\\lib\\site-packages\\tensorflow\\python\\framework\\dtypes.py:527: FutureWarning: Passing (type, 1) or '1type' as a synonym of type is deprecated; in a future version of numpy, it will be understood as (type, (1,)) / '(1,)type'.\n",
      "  _np_qint32 = np.dtype([(\"qint32\", np.int32, 1)])\n",
      "C:\\Users\\plagl\\Anaconda3\\lib\\site-packages\\tensorflow\\python\\framework\\dtypes.py:532: FutureWarning: Passing (type, 1) or '1type' as a synonym of type is deprecated; in a future version of numpy, it will be understood as (type, (1,)) / '(1,)type'.\n",
      "  np_resource = np.dtype([(\"resource\", np.ubyte, 1)])\n",
      "Using TensorFlow backend.\n"
     ]
    }
   ],
   "source": [
    "import pints\n",
    "import numpy as np"
   ]
  },
  {
   "cell_type": "code",
   "execution_count": 2,
   "metadata": {},
   "outputs": [],
   "source": [
    "import pints.toy as toy\n",
    "\n",
    "class RescaledModel(pints.ForwardModel):\n",
    "    def __init__(self):\n",
    "        self.base_model = toy.LogisticModel()\n",
    "    \n",
    "    def simulate(self, parameters, times):\n",
    "        # Run a simulation with the given parameters for the\n",
    "        # given times and return the simulated values\n",
    "        r, k = parameters\n",
    "        r = r / 50\n",
    "        k = k * 500\n",
    "        return self.base_model.simulate([r, k], times)\n",
    "    \n",
    "    def simulateS1(self, parameters, times):\n",
    "        # Run a simulation with the given parameters for the\n",
    "        # given times and return the simulated values\n",
    "        r, k = parameters\n",
    "        r = r / 50\n",
    "        k = k * 500\n",
    "        return self.base_model.simulateS1([r, k], times)\n",
    "    \n",
    "    def n_parameters(self):\n",
    "        # Return the dimension of the parameter vector\n",
    "        return 2\n",
    "    \n",
    "model = toy.LogisticModel()"
   ]
  },
  {
   "cell_type": "code",
   "execution_count": 3,
   "metadata": {},
   "outputs": [
    {
     "name": "stdout",
     "output_type": "stream",
     "text": [
      "Gaussian noise: 24.898095903089327\n"
     ]
    }
   ],
   "source": [
    "true_parameters = [0.015, 500]\n",
    "start_parameters = [0.75, 1.0] # rescaled true parameters\n",
    "times = np.linspace(0, 1000, 400)\n",
    "\n",
    "org_values = model.simulate(true_parameters, times)\n",
    "range_values = max(org_values) - min(org_values)\n",
    "\n",
    "noise = 0.05 * range_values\n",
    "print(\"Gaussian noise:\", noise)\n",
    "values = org_values + np.random.normal(0, noise, org_values.shape)\n",
    "values = org_values + np.random.normal(0, noise, org_values.shape)\n",
    "\n",
    "model = RescaledModel()\n",
    "problem = pints.SingleOutputProblem(model, times, values)\n",
    "\n",
    "log_likelihood = pints.GaussianKnownSigmaLogLikelihood(problem, noise)\n",
    "\n",
    "# Create (rescaled) bounds for our parameters and get prior\n",
    "bounds = pints.RectangularBoundaries([0.5, 0.8], [1.0, 1.2])\n",
    "log_prior = pints.UniformLogPrior(bounds)\n",
    "\n",
    "# Create a posterior log-likelihood (log(likelihood * prior))\n",
    "log_posterior = pints.LogPosterior(log_likelihood, log_prior)\n",
    "\n",
    "input_parameters = log_prior.sample(2000)\n",
    "likelihoods = np.apply_along_axis(log_likelihood, 1, input_parameters)"
   ]
  },
  {
   "cell_type": "code",
   "execution_count": 4,
   "metadata": {},
   "outputs": [
    {
     "name": "stdout",
     "output_type": "stream",
     "text": [
      "_________________________________________________________________\n",
      "Layer (type)                 Output Shape              Param #   \n",
      "=================================================================\n",
      "dense_1 (Dense)              (None, 64)                192       \n",
      "_________________________________________________________________\n",
      "dense_2 (Dense)              (None, 128)               8320      \n",
      "_________________________________________________________________\n",
      "dense_3 (Dense)              (None, 256)               33024     \n",
      "_________________________________________________________________\n",
      "dense_4 (Dense)              (None, 128)               32896     \n",
      "_________________________________________________________________\n",
      "dense_5 (Dense)              (None, 64)                8256      \n",
      "_________________________________________________________________\n",
      "dense_6 (Dense)              (None, 1)                 65        \n",
      "=================================================================\n",
      "Total params: 82,753\n",
      "Trainable params: 82,753\n",
      "Non-trainable params: 0\n",
      "_________________________________________________________________\n"
     ]
    }
   ],
   "source": [
    "from sklearn.preprocessing import StandardScaler, MinMaxScaler\n",
    "from sklearn.model_selection import train_test_split\n",
    "\n",
    "X_train, X_valid, y_train, y_valid = train_test_split(input_parameters, likelihoods, test_size=0.3, random_state=0)\n",
    "emu = pints.MultiLayerNN(problem, X_train, y_train, input_scaler=MinMaxScaler(), output_scaler=StandardScaler())\n",
    "emu.set_parameters(layers=6, neurons=64, hidden_activation='relu', activation='linear', learning_rate=0.0001)\n",
    "hist = emu.fit(epochs=500, batch_size=32, X_val=X_valid, y_val=y_valid, verbose=0)\n",
    "emu.summary()\n",
    "\n",
    "log_posterior_emu = pints.LogPosterior(emu, log_prior)"
   ]
  },
  {
   "cell_type": "code",
   "execution_count": 11,
   "metadata": {},
   "outputs": [],
   "source": [
    "x0 = np.array(start_parameters) * 1.05\n",
    "sigma0 = np.array(start_parameters) * 5e-05\n",
    "true_log_pdf = log_posterior\n",
    "log_pdf = log_posterior_emu\n",
    "\n",
    "n_chains = 1\n",
    "n_iterations = 10000\n",
    "method = pints.EmulatedMetropolisMCMC"
   ]
  },
  {
   "cell_type": "code",
   "execution_count": 14,
   "metadata": {},
   "outputs": [],
   "source": [
    "for n in range(0, n_iterations):\n",
    "    if n == 0:\n",
    "        # Current point and proposed point\n",
    "        current = x0\n",
    "        current_log_pdf = log_pdf(x0)\n",
    "        proposed = None\n",
    "        \n",
    "        # Acceptance rate monitoring\n",
    "        accepted1 = 0\n",
    "        accepted2 = 0\n",
    "        \n",
    "        # Check initial position\n",
    "        x0 = pints.vector(x0)\n",
    "\n",
    "        # Get number of parameters\n",
    "        n_parameters = len(x0)\n",
    "\n",
    "        # Check initial standard deviation\n",
    "        if sigma0 is None:\n",
    "            # Get representative parameter value for each parameter\n",
    "            sigma0 = np.abs(x0)\n",
    "            sigma0[sigma0 == 0] = 1\n",
    "            # Use to create diagonal matrix\n",
    "            sigma0 = np.diag(0.01 * sigma0)\n",
    "        else:\n",
    "            sigma0 = np.array(sigma0)\n",
    "            if np.product(sigma0.shape) == n_parameters:\n",
    "                # Convert from 1d array\n",
    "                sigma0 = sigma0.reshape((n_parameters,))\n",
    "                sigma0 = np.diag(sigma0)\n",
    "            else:\n",
    "                # Check if 2d matrix of correct size\n",
    "                sigma0 = sigma0.reshape(\n",
    "                    (n_parameters, n_parameters))\n",
    "                \n",
    "    # Ask- Propose new point\n",
    "    proposed = np.random.multivariate_normal(current, sigma0)\n",
    "        \n",
    "    # Tell - Calculate logpdfs\n",
    "    fx = log_pdf(proposed)\n",
    "    fx = float(fx)\n",
    "\n",
    "    # Check if the proposed point can be accepted using the emulator\n",
    "    if np.isfinite(fx):\n",
    "        # Step 1 - Initial reject step:\n",
    "        u1 = np.log(np.random.uniform(0, 1))\n",
    "        alpha1 = min(0, fx - current_log_pdf) # either alpha1 or alpha2 must be 0\n",
    "        if alpha1 > u1:\n",
    "            accepted1 += 1\n",
    "            # Step 2 - Metropolis step:\n",
    "            u2 = np.log(np.random.uniform(0, 1))\n",
    "            alpha2 = min(0, current_log_pdf - fx)\n",
    "            if ((true_log_pdf(proposed) + alpha2) - (true_log_pdf(current) + alpha1)) > u2:\n",
    "                accepted2 += 1                   \n",
    "                \n",
    "    # Clear proposal\n",
    "    proposed = None\n",
    "        "
   ]
  },
  {
   "cell_type": "code",
   "execution_count": 20,
   "metadata": {},
   "outputs": [
    {
     "name": "stdout",
     "output_type": "stream",
     "text": [
      "Overall acceptance: 0.29\n",
      "1st-step acceptance: 0.5\n",
      "2nd-step acceptance: 0.58\n"
     ]
    }
   ],
   "source": [
    "# Compute acceptance rates\n",
    "acceptance = accepted2 / n_iterations\n",
    "acceptance1 = accepted1 / n_iterations\n",
    "acceptance2 = accepted2 / accepted1\n",
    "print(\"Overall acceptance:\", acceptance)\n",
    "print(\"1st-step acceptance:\", acceptance1)\n",
    "print(\"2nd-step acceptance:\", acceptance2)"
   ]
  },
  {
   "cell_type": "code",
   "execution_count": 18,
   "metadata": {},
   "outputs": [],
   "source": [
    "for n in range(0, n_iterations):\n",
    "    if n == 0:\n",
    "        # Current point and proposed point\n",
    "        current = x0\n",
    "        current_log_pdf = log_pdf(x0)\n",
    "        proposed = None\n",
    "        \n",
    "        # Acceptance rate monitoring\n",
    "        orig_accepted = 0\n",
    "        \n",
    "        # Check initial position\n",
    "        x0 = pints.vector(x0)\n",
    "        # Get number of parameters\n",
    "        n_parameters = len(x0)\n",
    "        # Check initial standard deviation\n",
    "        if sigma0 is None:\n",
    "            # Get representative parameter value for each parameter\n",
    "            sigma0 = np.abs(x0)\n",
    "            sigma0[sigma0 == 0] = 1\n",
    "            # Use to create diagonal matrix\n",
    "            sigma0 = np.diag(0.01 * sigma0)\n",
    "        else:\n",
    "            sigma0 = np.array(sigma0)\n",
    "            if np.product(sigma0.shape) == n_parameters:\n",
    "                # Convert from 1d array\n",
    "                sigma0 = sigma0.reshape((n_parameters,))\n",
    "                sigma0 = np.diag(sigma0)\n",
    "            else:\n",
    "                # Check if 2d matrix of correct size\n",
    "                sigma0 = sigma0.reshape(\n",
    "                    (n_parameters, n_parameters))\n",
    "                \n",
    "    # Ask- Propose new point\n",
    "    proposed = np.random.multivariate_normal(current, sigma0)\n",
    "        \n",
    "    # Tell    \n",
    "    # Calculate logpdfs\n",
    "    fx = log_pdf(proposed)\n",
    "    fx = float(fx)\n",
    "\n",
    "\n",
    "    # Check if the proposed point can be accepted using the emulator\n",
    "    if np.isfinite(fx):\n",
    "        # Step 1 - Initial reject step:\n",
    "        u = np.log(np.random.uniform(0, 1))\n",
    "        #alpha1 = min(0, fx - current_log_pdf) # either alpha1 or alpha2 must be 0\n",
    "        if fx - current_log_pdf > u:\n",
    "            orig_accepted += 1\n",
    "                \n",
    "                \n",
    "    # Clear proposal\n",
    "    proposed = None\n",
    "        "
   ]
  },
  {
   "cell_type": "code",
   "execution_count": 19,
   "metadata": {},
   "outputs": [
    {
     "data": {
      "text/plain": [
       "0.526"
      ]
     },
     "execution_count": 19,
     "metadata": {},
     "output_type": "execute_result"
    }
   ],
   "source": [
    "# Compute acceptance rates\n",
    "orig_acceptance = orig_accepted / n_iterations\n",
    "orig_acceptance"
   ]
  },
  {
   "cell_type": "code",
   "execution_count": null,
   "metadata": {},
   "outputs": [],
   "source": []
  }
 ],
 "metadata": {
  "kernelspec": {
   "display_name": "Python 3",
   "language": "python",
   "name": "python3"
  },
  "language_info": {
   "codemirror_mode": {
    "name": "ipython",
    "version": 3
   },
   "file_extension": ".py",
   "mimetype": "text/x-python",
   "name": "python",
   "nbconvert_exporter": "python",
   "pygments_lexer": "ipython3",
   "version": "3.6.7"
  }
 },
 "nbformat": 4,
 "nbformat_minor": 4
}
